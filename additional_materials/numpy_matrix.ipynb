{
  "nbformat": 4,
  "nbformat_minor": 0,
  "metadata": {
    "kernelspec": {
      "display_name": "Python 3",
      "language": "python",
      "name": "python3"
    },
    "language_info": {
      "codemirror_mode": {
        "name": "ipython",
        "version": 3
      },
      "file_extension": ".py",
      "mimetype": "text/x-python",
      "name": "python",
      "nbconvert_exporter": "python",
      "pygments_lexer": "ipython3",
      "version": "3.7.6"
    },
    "toc": {
      "base_numbering": 1,
      "nav_menu": {},
      "number_sections": true,
      "sideBar": true,
      "skip_h1_title": false,
      "title_cell": "Table of Contents",
      "title_sidebar": "Contents",
      "toc_cell": false,
      "toc_position": {},
      "toc_section_display": true,
      "toc_window_display": false
    },
    "colab": {
      "name": "lab1_numpy_matrix.ipynb",
      "provenance": [],
      "include_colab_link": true
    }
  },
  "cells": [
    {
      "cell_type": "markdown",
      "metadata": {
        "id": "view-in-github",
        "colab_type": "text"
      },
      "source": [
        "<a href=\"https://colab.research.google.com/github/joewebkid/deep_learning_summary/blob/main/additional_materials/numpy_matrix.ipynb\" target=\"_parent\"><img src=\"https://colab.research.google.com/assets/colab-badge.svg\" alt=\"Open In Colab\"/></a>"
      ]
    },
    {
      "cell_type": "markdown",
      "metadata": {
        "id": "QKoaNrTqFS3g"
      },
      "source": [
        "## <center> Matrix Algebra with Numpy </center> ##"
      ]
    },
    {
      "cell_type": "markdown",
      "metadata": {
        "id": "178tuxXFFS3n"
      },
      "source": [
        "### What is a matrix? ###\n",
        "\n",
        "A matrix is a two-dimensional data structure where numbers are arranged into rows and columns. For example:\n",
        "\n",
        " ![](img/matrix.jpg)\n",
        "\n",
        "This matrix is a $3\\times 4$ (three-by-four) matrix because it has 3 rows and\n",
        "4 columns."
      ]
    },
    {
      "cell_type": "markdown",
      "metadata": {
        "id": "pytxk8SoFS3s"
      },
      "source": [
        "### Matrices in Python ###\n",
        "\n",
        "Python doesn't have a built-in type for matrices. However, we can treat list of a list as a matrix. For example:"
      ]
    },
    {
      "cell_type": "code",
      "metadata": {
        "id": "z6JQ_0sqFS3t",
        "outputId": "f0aa0a28-62ef-427c-f3a6-4cc75a9d7bcf"
      },
      "source": [
        "A = [[1, 4, 5, 12], \n",
        "     [-5, 8, 9, 0],\n",
        "     [-6, 7, 11, 19]]\n",
        "\n",
        "print(\"A =\", A) \n",
        "print(\"A[0] =\", A[0])  # 1st row. Note that the index starts from 0 but not 1.\n",
        "print(\"A[1] =\", A[1])      # 2nd row\n",
        "print(\"A[1][2] =\", A[1][2])   # 3rd element of 2nd row\n",
        "print(\"A[0][-1] =\", A[0][-1])   # Last element of 1st Row\n",
        "\n",
        "column = [];        # empty list\n",
        "for row in A:\n",
        "  column.append(row[2])   \n",
        "\n",
        "print(\"3rd column =\", column)"
      ],
      "execution_count": null,
      "outputs": [
        {
          "name": "stdout",
          "output_type": "stream",
          "text": [
            "A = [[1, 4, 5, 12], [-5, 8, 9, 0], [-6, 7, 11, 19]]\n",
            "A[0] = [1, 4, 5, 12]\n",
            "A[1] = [-5, 8, 9, 0]\n",
            "A[1][2] = 9\n",
            "A[0][-1] = 12\n",
            "3rd column = [5, 9, 11]\n"
          ]
        }
      ]
    },
    {
      "cell_type": "code",
      "metadata": {
        "id": "JsCq4ynyFS3v",
        "outputId": "61e32b17-6e71-4454-9313-234b99db15d9"
      },
      "source": [
        "#Likewise, we can define a vector as a list.\n",
        "vec_x = [2.0, 3.0, 5.0] # A row vector\n",
        "print(vec_x)     \n",
        "print(vec_x[0], vec_x[1] , vec_x[2])  # To access each component of the vecor."
      ],
      "execution_count": null,
      "outputs": [
        {
          "name": "stdout",
          "output_type": "stream",
          "text": [
            "[2.0, 3.0, 5.0]\n",
            "2.0 3.0 5.0\n"
          ]
        }
      ]
    },
    {
      "cell_type": "markdown",
      "metadata": {
        "id": "kEAKMenJFS3w"
      },
      "source": [
        "We may use Python matrix for simple computational task, however, there is a better way of working with matrices in Python using [Numpy](https://docs.scipy.org/doc/numpy-1.10.1/user/whatisnumpy.html)."
      ]
    },
    {
      "cell_type": "markdown",
      "metadata": {
        "id": "TYu9CLU-FS3w"
      },
      "source": [
        "### NumPy Array ###\n",
        "\n",
        "`NumPy` is a Python module that supports vectors and matrices in an optimized way. Using the built-in data structures of the Python programming language, we just implemented examples of vectors and matrices, but NumPy gives us a better way. Because NumPy is written in C code, it’s also incredibly fast to do:"
      ]
    },
    {
      "cell_type": "markdown",
      "metadata": {
        "id": "9tY9lu65FS3x"
      },
      "source": [
        "Let's take some examples:"
      ]
    },
    {
      "cell_type": "code",
      "metadata": {
        "id": "6CUxb6EVFS3y",
        "outputId": "377708de-4fb0-4add-9b3c-764108c58881"
      },
      "source": [
        "import numpy as np\n",
        "\n",
        "# A 1D array, shape-(3,)\n",
        "vector1 = np.array([1,2,3]) \n",
        "\n",
        "# A 2D array, shape-(2,3)\n",
        "matrix1 = np.array( [[0,4,1], [2,0,1]] ) \n",
        "\n",
        "# A 3D array, shape-(2, 3, 4): two two-dimensional arrays of shape 3×4\n",
        "matrix2 = np.array([[[0, 1, -2, 3],\n",
        "                     [2, 3, 0, 1],\n",
        "                     [-1, 2, 4, 1]],\n",
        "                    [[4, 5, 0, 2],\n",
        "                     [6, 7, 0, 1],\n",
        "                     [2, 1, 0, 8]]])\n",
        "\n",
        "print(vector1, type(vector1), vector1.dtype, vector1.shape, '\\n')\n",
        "print(matrix1, type(matrix1), matrix1.dtype, matrix1.shape, '\\n')\n",
        "print(matrix2, type(matrix2), matrix2.dtype, matrix2.shape)"
      ],
      "execution_count": null,
      "outputs": [
        {
          "name": "stdout",
          "output_type": "stream",
          "text": [
            "[1 2 3] <class 'numpy.ndarray'> int64 (3,) \n",
            "\n",
            "[[0 4 1]\n",
            " [2 0 1]] <class 'numpy.ndarray'> int64 (2, 3) \n",
            "\n",
            "[[[ 0  1 -2  3]\n",
            "  [ 2  3  0  1]\n",
            "  [-1  2  4  1]]\n",
            "\n",
            " [[ 4  5  0  2]\n",
            "  [ 6  7  0  1]\n",
            "  [ 2  1  0  8]]] <class 'numpy.ndarray'> int64 (2, 3, 4)\n"
          ]
        }
      ]
    },
    {
      "cell_type": "markdown",
      "metadata": {
        "id": "ac9PWDcMFS3z"
      },
      "source": [
        "As you can see, NumPy's array class is called `ndarray`. Here, `np.array()` replaces the previous *Python Matrix* we used to represent these data structures."
      ]
    },
    {
      "cell_type": "markdown",
      "metadata": {
        "id": "xZ1XFLsAFS30"
      },
      "source": [
        "### Array of integers, floats and complex Numbers ###"
      ]
    },
    {
      "cell_type": "code",
      "metadata": {
        "id": "X0-UnrYNFS30",
        "outputId": "02991827-5dc3-40ae-d96d-f0c466724500"
      },
      "source": [
        "B1 = np.array([[1, 2, 3], [3, 4, 5]])\n",
        "print(B1)\n",
        "\n",
        "B2 = np.array([[1.1, 2, 3], [3, 4, 5]]) # Array of floats\n",
        "print(B2)\n",
        "\n",
        "B3 = np.array([[1, 2, 3], [3, 4, 5]], dtype = complex) # Array of complex numbers\n",
        "print(B3)                                              # j = sqrt(-1)\n",
        "\n",
        "a = np.array([1,2,3])\n",
        "b = np.array([4,5,6])\n",
        "B4 = a + 1j*b # Note that the imaginary part is `1j` but not 'j'\n",
        "print(B4)\n",
        "print(B4*(2+1j))"
      ],
      "execution_count": null,
      "outputs": [
        {
          "name": "stdout",
          "output_type": "stream",
          "text": [
            "[[1 2 3]\n",
            " [3 4 5]]\n",
            "[[1.1 2.  3. ]\n",
            " [3.  4.  5. ]]\n",
            "[[1.+0.j 2.+0.j 3.+0.j]\n",
            " [3.+0.j 4.+0.j 5.+0.j]]\n",
            "[1.+4.j 2.+5.j 3.+6.j]\n",
            "[-2. +9.j -1.+12.j  0.+15.j]\n"
          ]
        }
      ]
    },
    {
      "cell_type": "markdown",
      "metadata": {
        "id": "43pizT36FS31"
      },
      "source": [
        "### Array of zeros and ones ###"
      ]
    },
    {
      "cell_type": "code",
      "metadata": {
        "id": "5wY-qwA6FS31",
        "outputId": "e7a2135e-fa22-406d-9a86-fb197ee22677"
      },
      "source": [
        "zeors_array = np.zeros( (2, 3) )\n",
        "print(zeors_array)\n",
        "\n",
        "ones_array = np.ones( (1, 5), dtype=np.int32 ) # specifying dtype\n",
        "print(ones_array)      "
      ],
      "execution_count": null,
      "outputs": [
        {
          "name": "stdout",
          "output_type": "stream",
          "text": [
            "[[0. 0. 0.]\n",
            " [0. 0. 0.]]\n",
            "[[1 1 1 1 1]]\n"
          ]
        }
      ]
    },
    {
      "cell_type": "markdown",
      "metadata": {
        "id": "Q7Gm5HBPFS32"
      },
      "source": [
        "Here, we have specified `dtype` to 32 bits (4 bytes). Hence, this array can take values from $-2^{31}$ to $2^{31}-1$."
      ]
    },
    {
      "cell_type": "markdown",
      "metadata": {
        "id": "cHzM1qYgFS32"
      },
      "source": [
        "### Manipulating arrays with **reshape()** ###\n",
        "\n",
        "NumPy provides an assortment of functions that allow us manipulate the way that an array’s element can be accessed. These permit us to reshape an array, change its dimensionality, and swap the positions of its elements. \n",
        "\n",
        "A complete listing of the available array-manipulation functions can be found in the offocial Numpy documentation [Array manipulation routines](https://docs.scipy.org/doc/numpy/reference/routines.array-manipulation.html). Among these functions, the `reshape()` function is especially useful.\n",
        "\n",
        "The `reshape()` function allows you to change the dimensionality and layout of a given array. Let’s take a shape-(6,) array, and reshape it to a shape-(2, 3) array:"
      ]
    },
    {
      "cell_type": "code",
      "metadata": {
        "id": "hwmJgLOtFS33",
        "outputId": "e472264a-cb51-48c2-8789-87427a33adf3"
      },
      "source": [
        "x = np.array([0, 1, 2, 3, 4, 5])\n",
        "\n",
        "# Reshape a shape-(6,) array into a shape-(2,3) array\n",
        "x.reshape(2,3) # This doesn't cahnge 'x'\n",
        "print('x = ', x, '\\n', 'x_reshaped = ', x.reshape(2,3))"
      ],
      "execution_count": null,
      "outputs": [
        {
          "name": "stdout",
          "output_type": "stream",
          "text": [
            "x =  [0 1 2 3 4 5] \n",
            " x_reshaped =  [[0 1 2]\n",
            " [3 4 5]]\n"
          ]
        }
      ]
    },
    {
      "cell_type": "markdown",
      "metadata": {
        "id": "vMIs94U1FS35"
      },
      "source": [
        "You can also conveniently reshape an array by “setting” its shape via assignment:"
      ]
    },
    {
      "cell_type": "code",
      "metadata": {
        "id": "NEaRqYdoFS35",
        "outputId": "258a1ac8-d092-4840-b396-79a35a02757e"
      },
      "source": [
        "# equivalent to: x = x.reshape(2, 3)\n",
        "x.shape = (2, 3) #This change 'x'\n",
        "print(x)"
      ],
      "execution_count": null,
      "outputs": [
        {
          "name": "stdout",
          "output_type": "stream",
          "text": [
            "[[0 1 2]\n",
            " [3 4 5]]\n"
          ]
        }
      ]
    },
    {
      "cell_type": "markdown",
      "metadata": {
        "id": "r7naxDcGFS36"
      },
      "source": [
        "Of course, the size the the initial array must match the size of the to-be reshaped array:"
      ]
    },
    {
      "cell_type": "code",
      "metadata": {
        "id": "HL5fmvGNFS36",
        "outputId": "6732f8a7-deba-40db-ed9e-3bb1658ece2c"
      },
      "source": [
        "# an array with 5 numbers are cannot be reshaped\n",
        "# into a (3, 2) array, which needs 3*2=6 numbers.\n",
        "np.array([0, 1, 2, 3, 4]).reshape(3, 2)"
      ],
      "execution_count": null,
      "outputs": [
        {
          "ename": "ValueError",
          "evalue": "cannot reshape array of size 5 into shape (3,2)",
          "output_type": "error",
          "traceback": [
            "\u001b[0;31m---------------------------------------------------------------------------\u001b[0m",
            "\u001b[0;31mValueError\u001b[0m                                Traceback (most recent call last)",
            "\u001b[0;32m<ipython-input-12-a225c0082d80>\u001b[0m in \u001b[0;36m<module>\u001b[0;34m\u001b[0m\n\u001b[1;32m      1\u001b[0m \u001b[0;31m# an array with 5 numbers are cannot be reshaped\u001b[0m\u001b[0;34m\u001b[0m\u001b[0;34m\u001b[0m\u001b[0;34m\u001b[0m\u001b[0m\n\u001b[1;32m      2\u001b[0m \u001b[0;31m# into a (3, 2) array, which needs 3*2=6 numbers.\u001b[0m\u001b[0;34m\u001b[0m\u001b[0;34m\u001b[0m\u001b[0;34m\u001b[0m\u001b[0m\n\u001b[0;32m----> 3\u001b[0;31m \u001b[0mnp\u001b[0m\u001b[0;34m.\u001b[0m\u001b[0marray\u001b[0m\u001b[0;34m(\u001b[0m\u001b[0;34m[\u001b[0m\u001b[0;36m0\u001b[0m\u001b[0;34m,\u001b[0m \u001b[0;36m1\u001b[0m\u001b[0;34m,\u001b[0m \u001b[0;36m2\u001b[0m\u001b[0;34m,\u001b[0m \u001b[0;36m3\u001b[0m\u001b[0;34m,\u001b[0m \u001b[0;36m4\u001b[0m\u001b[0;34m]\u001b[0m\u001b[0;34m)\u001b[0m\u001b[0;34m.\u001b[0m\u001b[0mreshape\u001b[0m\u001b[0;34m(\u001b[0m\u001b[0;36m3\u001b[0m\u001b[0;34m,\u001b[0m \u001b[0;36m2\u001b[0m\u001b[0;34m)\u001b[0m\u001b[0;34m\u001b[0m\u001b[0;34m\u001b[0m\u001b[0m\n\u001b[0m",
            "\u001b[0;31mValueError\u001b[0m: cannot reshape array of size 5 into shape (3,2)"
          ]
        }
      ]
    },
    {
      "cell_type": "markdown",
      "metadata": {
        "id": "Y11p6vV9FS36"
      },
      "source": [
        "Multidimensional arrays can be reshaped too:"
      ]
    },
    {
      "cell_type": "code",
      "metadata": {
        "id": "JdIL1xM3FS37",
        "outputId": "99e8befa-f5d0-41bc-da06-8805d21a3fba"
      },
      "source": [
        "# reshaping a multidimensional array\n",
        "y = np.array([[ 0,  1,  2,  3],\n",
        "              [ 4,  5,  6,  7],\n",
        "              [ 8,  9, 10, 11]])\n",
        "\n",
        "# reshape from (3, 4) to (2, 3, 2)\n",
        "y.reshape(2, 3, 2)"
      ],
      "execution_count": null,
      "outputs": [
        {
          "data": {
            "text/plain": [
              "array([[[ 0,  1],\n",
              "        [ 2,  3],\n",
              "        [ 4,  5]],\n",
              "\n",
              "       [[ 6,  7],\n",
              "        [ 8,  9],\n",
              "        [10, 11]]])"
            ]
          },
          "execution_count": 13,
          "metadata": {},
          "output_type": "execute_result"
        }
      ]
    },
    {
      "cell_type": "markdown",
      "metadata": {
        "id": "-jj7EQdjFS37"
      },
      "source": [
        "Because the size of an input array and the resulting reshaped array must agree, you can specify one of the dimension-sizes in the reshape function to be -1, and this will cue NumPy to compute that dimension’s size for you. For example, if you are reshaping a shape-(36,) array into a shape-(3, 4, 3) array. The following are valid:"
      ]
    },
    {
      "cell_type": "code",
      "metadata": {
        "id": "e-iFfRBEFS37",
        "outputId": "866866e8-8129-418f-b5fa-afef62c4eeee"
      },
      "source": [
        "# Equivalent ways of specifying a reshape\n",
        "# np.arange(36) produces the shape-(36,) array ([0, 1, 2, ..., 35])\n",
        "np.arange(36).reshape(3, 4, 3)   # (36,) --reshape--> (3, 4, 3)\n",
        "np.arange(36).reshape(3, 4, -1)  # NumPy replaces -1 with 36/(3*4) -> 3\n",
        "np.arange(36).reshape(3, -1, 3)  # NumPy replaces -1 with 36/(3*3) -> 4\n",
        "np.arange(36).reshape(-1, 4, 3)  # NumPy replaces -1 with 36/(3*4) -> 3"
      ],
      "execution_count": null,
      "outputs": [
        {
          "data": {
            "text/plain": [
              "array([[[ 0,  1,  2],\n",
              "        [ 3,  4,  5],\n",
              "        [ 6,  7,  8],\n",
              "        [ 9, 10, 11]],\n",
              "\n",
              "       [[12, 13, 14],\n",
              "        [15, 16, 17],\n",
              "        [18, 19, 20],\n",
              "        [21, 22, 23]],\n",
              "\n",
              "       [[24, 25, 26],\n",
              "        [27, 28, 29],\n",
              "        [30, 31, 32],\n",
              "        [33, 34, 35]]])"
            ]
          },
          "execution_count": 14,
          "metadata": {},
          "output_type": "execute_result"
        }
      ]
    },
    {
      "cell_type": "markdown",
      "metadata": {
        "id": "XPFsZu4SFS38"
      },
      "source": [
        "You can use -1 to specify only one dimension:"
      ]
    },
    {
      "cell_type": "code",
      "metadata": {
        "id": "eVwzoZHLFS38",
        "outputId": "d6421daa-b4e3-4bfa-abc5-2cc12a63b8c7"
      },
      "source": [
        "np.arange(36).reshape(3, -1, -1)  # this is an ambiguous specification, and thus"
      ],
      "execution_count": null,
      "outputs": [
        {
          "ename": "ValueError",
          "evalue": "can only specify one unknown dimension",
          "output_type": "error",
          "traceback": [
            "\u001b[0;31m---------------------------------------------------------------------------\u001b[0m",
            "\u001b[0;31mValueError\u001b[0m                                Traceback (most recent call last)",
            "\u001b[0;32m<ipython-input-15-85cbd2c75279>\u001b[0m in \u001b[0;36m<module>\u001b[0;34m\u001b[0m\n\u001b[0;32m----> 1\u001b[0;31m \u001b[0mnp\u001b[0m\u001b[0;34m.\u001b[0m\u001b[0marange\u001b[0m\u001b[0;34m(\u001b[0m\u001b[0;36m36\u001b[0m\u001b[0;34m)\u001b[0m\u001b[0;34m.\u001b[0m\u001b[0mreshape\u001b[0m\u001b[0;34m(\u001b[0m\u001b[0;36m3\u001b[0m\u001b[0;34m,\u001b[0m \u001b[0;34m-\u001b[0m\u001b[0;36m1\u001b[0m\u001b[0;34m,\u001b[0m \u001b[0;34m-\u001b[0m\u001b[0;36m1\u001b[0m\u001b[0;34m)\u001b[0m  \u001b[0;31m# this is an ambiguous specification, and thus\u001b[0m\u001b[0;34m\u001b[0m\u001b[0;34m\u001b[0m\u001b[0m\n\u001b[0m",
            "\u001b[0;31mValueError\u001b[0m: can only specify one unknown dimension"
          ]
        }
      ]
    },
    {
      "cell_type": "markdown",
      "metadata": {
        "id": "Mr4MbDqFFS38"
      },
      "source": [
        "For all straightforward applications of reshape, `NumPy` does not actually create a new copy of an array’s data when performing a reshape operation. Instead, the original array and the reshaped array reference the same underlying data. The reshaped array simply provides a new index-interface for accessing said data, and is thus referred to as a “view” of the original array"
      ]
    },
    {
      "cell_type": "markdown",
      "metadata": {
        "id": "sq9DDy6OFS38"
      },
      "source": [
        "### Matrix Operations ###"
      ]
    },
    {
      "cell_type": "markdown",
      "metadata": {
        "id": "xuEucuioFS39"
      },
      "source": [
        "**Addition of Two Matrics**: We use `+` operator to add corresponding elements of two NumPy matrices."
      ]
    },
    {
      "cell_type": "code",
      "metadata": {
        "id": "mZ89yHx3FS39",
        "outputId": "78fb54fd-1bfc-4cff-89c1-93e27de16a48"
      },
      "source": [
        "D1 = np.array([[2, 4], [5, -6]])\n",
        "D2 = np.array([[9, -3], [3, 6]])\n",
        "D = D1 + D2      # element wise addition\n",
        "print(D)"
      ],
      "execution_count": null,
      "outputs": [
        {
          "name": "stdout",
          "output_type": "stream",
          "text": [
            "[[11  1]\n",
            " [ 8  0]]\n"
          ]
        }
      ]
    },
    {
      "cell_type": "markdown",
      "metadata": {
        "id": "BKpela87FS39"
      },
      "source": [
        "**Multiplication of Two Matrics** To multiply two matrices, we use `dot()` method. Learn more about how [numpy.dot](https://docs.scipy.org/doc/numpy-1.15.0/reference/generated/numpy.dot.html) works."
      ]
    },
    {
      "cell_type": "code",
      "metadata": {
        "id": "o8w2HLUkFS39",
        "outputId": "d1642cbc-31cf-47a3-a77e-ee2bb4c42298"
      },
      "source": [
        "E1 = np.array([[3, 6, 7], [5, -3, 0]])\n",
        "E2 = np.array([[1, 1], [2, 1], [3, -3]])\n",
        "E = E1.dot(E2)\n",
        "print(E)"
      ],
      "execution_count": null,
      "outputs": [
        {
          "name": "stdout",
          "output_type": "stream",
          "text": [
            "[[ 36 -12]\n",
            " [ -1   2]]\n"
          ]
        }
      ]
    },
    {
      "cell_type": "markdown",
      "metadata": {
        "id": "ECdcQj8OFS39"
      },
      "source": [
        "On the other hand, as of Python 3.5, NumPy supports infix matrix multiplication using the\n",
        "`@` operator, so you can achieve the same convenience of matrix multiplication with ndarrays in Python >= 3.5."
      ]
    },
    {
      "cell_type": "code",
      "metadata": {
        "id": "ABJAY-utFS39",
        "outputId": "6e4da3a4-1b85-4ddc-b6fc-0d629b7738f9"
      },
      "source": [
        "print(E1 @ E2)"
      ],
      "execution_count": null,
      "outputs": [
        {
          "name": "stdout",
          "output_type": "stream",
          "text": [
            "[[ 36 -12]\n",
            " [ -1   2]]\n"
          ]
        }
      ]
    },
    {
      "cell_type": "markdown",
      "metadata": {
        "id": "K-64kbrPFS3-"
      },
      "source": [
        "In contrast, numpy arrays consistently abide by the rule that operations are applied element-wise (except for the new `@` operator). Thus, \n",
        "if $A$ and $B$ are numpy arrays whose dimensions are the same, then $A*B$ is the array formed \n",
        "by multiplying the components element-wise:"
      ]
    },
    {
      "cell_type": "code",
      "metadata": {
        "id": "qUW0EO2HFS3-",
        "outputId": "b23371ae-9c2c-4624-b537-a79b757f4c17"
      },
      "source": [
        "F1=np.array([[4, 3], [2, 1]])\n",
        "F2=np.array([[1, 2], [3, 4]])\n",
        "print(F1*F2)"
      ],
      "execution_count": null,
      "outputs": [
        {
          "name": "stdout",
          "output_type": "stream",
          "text": [
            "[[4 6]\n",
            " [6 4]]\n"
          ]
        }
      ]
    },
    {
      "cell_type": "markdown",
      "metadata": {
        "id": "IlDDeUbkFS3-"
      },
      "source": [
        "If $A$ is a matrix of type ndarray, then`A**2` returns an ndarray with each component squared element-wise. "
      ]
    },
    {
      "cell_type": "code",
      "metadata": {
        "id": "3hzlCKeOFS3-",
        "outputId": "b4f9c80d-6f5c-437f-dac0-3a713a3f0845"
      },
      "source": [
        "print(F1**2)"
      ],
      "execution_count": null,
      "outputs": [
        {
          "name": "stdout",
          "output_type": "stream",
          "text": [
            "[[16  9]\n",
            " [ 4  1]]\n"
          ]
        }
      ]
    },
    {
      "cell_type": "markdown",
      "metadata": {
        "id": "CYu-63_tFS3_"
      },
      "source": [
        "**Transpose of a Matrix** We use `numpy.transpose` to compute transpose of a matrix."
      ]
    },
    {
      "cell_type": "code",
      "metadata": {
        "id": "CywciHB5FS3_",
        "outputId": "0dcac7a0-d72a-400c-df53-e38e553fb6f3"
      },
      "source": [
        "G = np.array([[1, 1], [2, 1], [3, -3]])\n",
        "print(G.transpose())"
      ],
      "execution_count": null,
      "outputs": [
        {
          "name": "stdout",
          "output_type": "stream",
          "text": [
            "[[ 1  2  3]\n",
            " [ 1  1 -3]]\n"
          ]
        }
      ]
    },
    {
      "cell_type": "markdown",
      "metadata": {
        "id": "WtpYifReFS4A"
      },
      "source": [
        "### Access matrix elements, rows and columns ###"
      ]
    },
    {
      "cell_type": "markdown",
      "metadata": {
        "id": "kHdpjhSTFS4A"
      },
      "source": [
        "**Access matrix elements** Similar like lists, we can access matrix elements using index. Let's start with a one-dimensional NumPy array."
      ]
    },
    {
      "cell_type": "code",
      "metadata": {
        "id": "qmB8jrH_FS4A",
        "outputId": "e74ec10d-e2ba-428f-cf35-50d1f1471b33"
      },
      "source": [
        "H = np.array([2, 4, 6, 8, 10])\n",
        "\n",
        "print(\"H[0] =\", H[0])     # First element     \n",
        "print(\"H[2] =\", H[2])     # Third element \n",
        "print(\"H[-1] =\", H[-1])   # Last element "
      ],
      "execution_count": null,
      "outputs": [
        {
          "name": "stdout",
          "output_type": "stream",
          "text": [
            "H[0] = 2\n",
            "H[2] = 6\n",
            "H[-1] = 10\n"
          ]
        }
      ]
    },
    {
      "cell_type": "markdown",
      "metadata": {
        "id": "9YCvOZQXFS4B"
      },
      "source": [
        "Notice that the index starts from $0$. Now, let's see how we can access elements of a two-dimensional array (which is basically a matrix)."
      ]
    },
    {
      "cell_type": "code",
      "metadata": {
        "id": "3Y7OBLcWFS4B",
        "outputId": "dbed892a-1011-457c-b175-697981c08bdc"
      },
      "source": [
        "M = np.array([[1, 4, 5, 12],\n",
        "    [-5, 8, 9, 0],\n",
        "    [-6, 7, 11, 19]])\n",
        "\n",
        "#  First element of first row\n",
        "print(\"M[0, 0] =\", M[0,0])  \n",
        "# Third element of second row\n",
        "print(\"M[1, 2] =\", M[1,2])\n",
        "\n",
        "# Last element of last row\n",
        "print(\"M[-1, -1] =\", M[-1,-1])     "
      ],
      "execution_count": null,
      "outputs": [
        {
          "name": "stdout",
          "output_type": "stream",
          "text": [
            "M[0, 0] = 1\n",
            "M[1, 2] = 9\n",
            "M[-1, -1] = 19\n"
          ]
        }
      ]
    },
    {
      "cell_type": "markdown",
      "metadata": {
        "id": "lVJenpvfFS4B"
      },
      "source": [
        "**Access rows of a Matrix** "
      ]
    },
    {
      "cell_type": "code",
      "metadata": {
        "id": "WimoXHFXFS4B",
        "outputId": "f01d8337-0690-4df1-82ac-49b68417f475"
      },
      "source": [
        "print(\"M[0] =\", M[0]) # First Row\n",
        "print(\"M[2] =\", M[2]) # Third Row\n",
        "print(\"M[-1] =\", M[-1]) # Last Row (3rd row in this case)"
      ],
      "execution_count": null,
      "outputs": [
        {
          "name": "stdout",
          "output_type": "stream",
          "text": [
            "M[0] = [ 1  4  5 12]\n",
            "M[2] = [-6  7 11 19]\n",
            "M[-1] = [-6  7 11 19]\n"
          ]
        }
      ]
    },
    {
      "cell_type": "markdown",
      "metadata": {
        "id": "UgRWMqXEFS4B"
      },
      "source": [
        "**Access columns of a Matrix**"
      ]
    },
    {
      "cell_type": "code",
      "metadata": {
        "id": "m934dW3iFS4B",
        "outputId": "dd1d911b-17fe-41ef-b692-fc68915b3568"
      },
      "source": [
        "print(\"M[:,0] =\",M[:,0]) # First Column\n",
        "print(\"M[:,3] =\", M[:,3]) # Fourth Column\n",
        "print(\"M[:,-1] =\", M[:,-1]) # Last Column (4th column in this case)"
      ],
      "execution_count": null,
      "outputs": [
        {
          "name": "stdout",
          "output_type": "stream",
          "text": [
            "M[:,0] = [ 1 -5 -6]\n",
            "M[:,3] = [12  0 19]\n",
            "M[:,-1] = [12  0 19]\n"
          ]
        }
      ]
    },
    {
      "cell_type": "markdown",
      "metadata": {
        "id": "79td1rghFS4C"
      },
      "source": [
        "**Slicing of a Matrix** Slicing of a one-dimensional NumPy array is similar to a list. If you don't know how slicing for a list works, visit [Understanding Python's slice notation](https://stackoverflow.com/questions/509211/understanding-slice-notation)."
      ]
    },
    {
      "cell_type": "code",
      "metadata": {
        "id": "TVVBAh4YFS4C",
        "outputId": "464488e3-8561-4f18-e5ac-609afa768804"
      },
      "source": [
        "letters = np.array([1, 3, 5, 7, 9, 7, 5])\n",
        "\n",
        "# 3rd to 5th elements\n",
        "print(letters[2:5])        \n",
        "\n",
        "# 1st to 6th elements\n",
        "print(letters[:-1])           \n",
        "\n",
        "# 6th to last elements\n",
        "print(letters[5:])         \n",
        "\n",
        "# 1st to last elements\n",
        "print(letters[:])          \n",
        "\n",
        "# reversing a list\n",
        "print(letters[::-1])  "
      ],
      "execution_count": null,
      "outputs": [
        {
          "name": "stdout",
          "output_type": "stream",
          "text": [
            "[5 7 9]\n",
            "[1 3 5 7 9 7]\n",
            "[7 5]\n",
            "[1 3 5 7 9 7 5]\n",
            "[5 7 9 7 5 3 1]\n"
          ]
        }
      ]
    },
    {
      "cell_type": "markdown",
      "metadata": {
        "id": "sJE-4DemFS4C"
      },
      "source": [
        "Now, let's see how we can slice a matrix."
      ]
    },
    {
      "cell_type": "code",
      "metadata": {
        "id": "ToiSDxHmFS4C",
        "outputId": "d2b211f9-b8b3-4959-b9f8-c7eea21cb267"
      },
      "source": [
        "print(M[:2, :4])  # two rows (row-0 and row-1), four columns (column-0 through column-3)\n",
        "print(' ')\n",
        "\n",
        "print(M[0,:])  # first row, all columns\n",
        "print(' ')\n",
        "\n",
        "print(M[:,2])  # all rows, third column\n",
        "print(' ')\n",
        "\n",
        "print(M[:, 2:5])  # all rows, third to fifth column"
      ],
      "execution_count": null,
      "outputs": [
        {
          "name": "stdout",
          "output_type": "stream",
          "text": [
            "[[ 1  4  5 12]\n",
            " [-5  8  9  0]]\n",
            " \n",
            "[ 1  4  5 12]\n",
            " \n",
            "[ 5  9 11]\n",
            " \n",
            "[[ 5 12]\n",
            " [ 9  0]\n",
            " [11 19]]\n"
          ]
        }
      ]
    },
    {
      "cell_type": "markdown",
      "metadata": {
        "id": "HaQFbRqAFS4D"
      },
      "source": [
        "### N-dimensional Arrays ###\n",
        "\n",
        "Let’s build up some intuition for arrays with a dimensionality higher than 2. The following code creates a 3-dimensional array:"
      ]
    },
    {
      "cell_type": "code",
      "metadata": {
        "id": "1IapbKTKFS4D",
        "outputId": "0363a543-5e4f-442c-af34-3f9b887edab3"
      },
      "source": [
        "# a 3D array, shape-(2, 2, 2)\n",
        "d3_array = np.array([[[0, 1],\n",
        "                      [2, 3]],\n",
        "                     [[4, 5],\n",
        "                      [6, 7]]])\n",
        "print(d3_array)"
      ],
      "execution_count": null,
      "outputs": [
        {
          "name": "stdout",
          "output_type": "stream",
          "text": [
            "[[[0 1]\n",
            "  [2 3]]\n",
            "\n",
            " [[4 5]\n",
            "  [6 7]]]\n"
          ]
        }
      ]
    },
    {
      "cell_type": "markdown",
      "metadata": {
        "id": "GmBiTuKbFS4K"
      },
      "source": [
        "**Depicting the layout of a 3D array**\n",
        "\n",
        "\n",
        "   ![](img/3d_array.png) \n",
        "   \n",
        "You can think of `axis-0` denoting which of the 2x2 “sheets” to select from. \n",
        "Then `axis-1` specifies the row along the sheets, and `axis-2` the column within the row."
      ]
    },
    {
      "cell_type": "markdown",
      "metadata": {
        "id": "nl_EH7juFS4K"
      },
      "source": [
        "Thus `d3_array[0,1,0]` specifies the element residing in sheet-0, at row-1 (second row) and column-0 (first column):"
      ]
    },
    {
      "cell_type": "code",
      "metadata": {
        "id": "F-g2c5d0FS4K",
        "outputId": "a2d4fb58-c771-458d-cbed-2562f9afcc13"
      },
      "source": [
        "# Retrieving a single element from a 3D array\n",
        "ex1 = d3_array[0,1,0]\n",
        "ex1"
      ],
      "execution_count": null,
      "outputs": [
        {
          "data": {
            "text/plain": [
              "2"
            ]
          },
          "execution_count": 30,
          "metadata": {},
          "output_type": "execute_result"
        }
      ]
    },
    {
      "cell_type": "markdown",
      "metadata": {
        "id": "pqLezXYSFS4K"
      },
      "source": [
        "`d3_array[:, 0, 0]` specifies the elements in row-0 and column-0 of both sheets:"
      ]
    },
    {
      "cell_type": "code",
      "metadata": {
        "id": "WaHnFGgRFS4K",
        "outputId": "a46374cd-3f91-4491-b907-260d097a0832"
      },
      "source": [
        "# retrieving a 1D sub-array from a 3D-array\n",
        "ex2 = d3_array[:,0,0]\n",
        "ex2"
      ],
      "execution_count": null,
      "outputs": [
        {
          "data": {
            "text/plain": [
              "array([0, 4])"
            ]
          },
          "execution_count": 31,
          "metadata": {},
          "output_type": "execute_result"
        }
      ]
    },
    {
      "cell_type": "markdown",
      "metadata": {
        "id": "7NGJshPlFS4L"
      },
      "source": [
        "`d3_array[1]`, which recall is shorthand for `d3_array[1, :, :]`, selects both rows and both columns of sheet-1:"
      ]
    },
    {
      "cell_type": "code",
      "metadata": {
        "id": "kfQDEjedFS4L",
        "outputId": "df3ce38d-b3fe-480b-e65a-9e1583d039d2"
      },
      "source": [
        "# retrieving a 2D sub-array from a 3D-array\n",
        "ex3 = d3_array[1]\n",
        "print(ex3)"
      ],
      "execution_count": null,
      "outputs": [
        {
          "name": "stdout",
          "output_type": "stream",
          "text": [
            "[[4 5]\n",
            " [6 7]]\n"
          ]
        }
      ]
    },
    {
      "cell_type": "markdown",
      "metadata": {
        "id": "5lZQSRlpFS4L"
      },
      "source": [
        "In four dimensions, one can think of “stacks of sheets with rows and columns” where axis-0 selects the stack of sheets you are working with, axis-1 chooses the sheet, axis-2 chooses the row, and axis-3 chooses the column. Extrapolating to higher dimensions (“collections of stacks of sheets …”) continues in the same tedious fashion."
      ]
    },
    {
      "cell_type": "markdown",
      "metadata": {
        "id": "JFN2qaQ_FS4L"
      },
      "source": [
        "###  Exercises ###"
      ]
    },
    {
      "cell_type": "markdown",
      "metadata": {
        "id": "lxIvMv3eFS4M"
      },
      "source": [
        "1. Create a null vector of size 10 but the fifth value which is 1.\n",
        "2. Create a 2D array of shape-(10,10) with 1 on the border and 0 inside.\n",
        "3. Consider a (6,7,8) shape array, what is the index (x,y,z) of the 100th elements?\n",
        "4. Given the 3D, shape-(3,3,3) array:\n",
        "\n",
        "   ![](img/nparray-pr1.png)\n",
        "   \n",
        "   Write a code of indexing into the array to produce the following results.   \n",
        "     \n",
        "    ![](img/nparray-pr1c.png) \n",
        "   "
      ]
    },
    {
      "cell_type": "markdown",
      "metadata": {
        "id": "Dw9Nl0HVFS4M"
      },
      "source": [
        "### NumPy Resources ###\n",
        "\n",
        "As you can see, using NumPy (instead of nested lists) makes it a lot easier to work with matrices, and we haven't even scratched the basics. We suggest you to explore NumPy package in detail especially if you trying to use Python for data science/analytics.\n",
        "\n",
        " * [Quickstart tutorial](https://docs.scipy.org/doc/numpy-1.15.1/user/quickstart.html)\n",
        " * [Numpy Array Basic A](https://www.bogotobogo.com/python/python_numpy_array_tutorial_basic_A.php)\n",
        "  and [Numpy Array Basic B](https://www.bogotobogo.com/python/python_numpy_array_tutorial_basic_B.php)\n",
        " * [Numpy tutorial](http://www.labri.fr/perso/nrougier/teaching/numpy/numpy.html)\n",
        " * [NumPy Reference](https://docs.scipy.org/doc/numpy-1.14.5/reference/)"
      ]
    },
    {
      "cell_type": "code",
      "metadata": {
        "id": "H9pmquS4FS4M"
      },
      "source": [
        ""
      ],
      "execution_count": null,
      "outputs": []
    }
  ]
}